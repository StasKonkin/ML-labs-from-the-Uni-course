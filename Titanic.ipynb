{
  "nbformat": 4,
  "nbformat_minor": 0,
  "metadata": {
    "colab": {
      "provenance": [],
      "include_colab_link": true
    },
    "kernelspec": {
      "name": "python3",
      "display_name": "Python 3"
    },
    "language_info": {
      "name": "python"
    }
  },
  "cells": [
    {
      "cell_type": "markdown",
      "metadata": {
        "id": "view-in-github",
        "colab_type": "text"
      },
      "source": [
        "<a href=\"https://colab.research.google.com/github/StasKonkin/ML-labs-from-the-Uni-course/blob/main/Lab1.ipynb\" target=\"_parent\"><img src=\"https://colab.research.google.com/assets/colab-badge.svg\" alt=\"Open In Colab\"/></a>"
      ]
    },
    {
      "cell_type": "code",
      "source": [
        "import pandas as pd\n",
        "import numpy as np\n",
        "import scipy.stats.stats as scp\n",
        "\n",
        "data = pd.read_csv('titanic.csv')\n",
        "\n",
        "print(\"Men & Women\")\n",
        "\n",
        "n_male = data[data.Sex == 'male'].shape[0]\n",
        "n_female = data[data.Sex == 'female'].shape[0]\n",
        "print(n_male, n_female)"
      ],
      "metadata": {
        "id": "6dtcBGxza8M5",
        "colab": {
          "base_uri": "https://localhost:8080/"
        },
        "outputId": "6687328a-cd34-4c9b-f931-eb989cb00572"
      },
      "execution_count": null,
      "outputs": [
        {
          "output_type": "stream",
          "name": "stdout",
          "text": [
            "Men & Women\n",
            "577 314\n"
          ]
        }
      ]
    },
    {
      "cell_type": "code",
      "source": [
        "print(\"Survived\")\n",
        "\n",
        "p_surv = data['Survived'].sum() / data.shape[0] * 100\n",
        "p_surv = round(p_surv, 2)\n",
        "print(p_surv)"
      ],
      "metadata": {
        "id": "pq9m68sYbB6z",
        "colab": {
          "base_uri": "https://localhost:8080/"
        },
        "outputId": "c8330cb5-ad44-4526-ca87-dff067d17dbc"
      },
      "execution_count": null,
      "outputs": [
        {
          "output_type": "stream",
          "name": "stdout",
          "text": [
            "Survived\n",
            "38.38\n"
          ]
        }
      ]
    },
    {
      "cell_type": "code",
      "source": [
        "print(\"1st Class passengers\")\n",
        "\n",
        "p_fclass = data[data.Pclass == 1].shape[0] / data.shape[0] * 100\n",
        "p_fclass = round(p_fclass, 2)\n",
        "print(p_fclass)"
      ],
      "metadata": {
        "id": "THnvf3-cbGRs",
        "colab": {
          "base_uri": "https://localhost:8080/"
        },
        "outputId": "44cf537d-c541-433f-fcf7-c5df2685f4d9"
      },
      "execution_count": null,
      "outputs": [
        {
          "output_type": "stream",
          "name": "stdout",
          "text": [
            "1st Class passengers\n",
            "24.24\n"
          ]
        }
      ]
    },
    {
      "cell_type": "code",
      "source": [
        "print(\"Average & Median age\")\n",
        "\n",
        "avg_age = data['Age'].mean()\n",
        "avg_age = round(avg_age, 2)\n",
        "mdn_age = data['Age'].median()\n",
        "print(avg_age, mdn_age)"
      ],
      "metadata": {
        "id": "8lQB3WrxbLD4",
        "colab": {
          "base_uri": "https://localhost:8080/"
        },
        "outputId": "4fb058a6-e086-4473-a696-d2fbc761e155"
      },
      "execution_count": null,
      "outputs": [
        {
          "output_type": "stream",
          "name": "stdout",
          "text": [
            "Average & Median age\n",
            "29.7 28.0\n"
          ]
        }
      ]
    },
    {
      "cell_type": "code",
      "source": [
        "print(\"Cor Pearson\")\n",
        "\n",
        "cor_sib_par = scp.pearsonr(data['SibSp'], data['Parch'])\n",
        "print(cor_sib_par)"
      ],
      "metadata": {
        "id": "VyxfIT8KbPF1",
        "colab": {
          "base_uri": "https://localhost:8080/"
        },
        "outputId": "20533044-0358-404e-f57c-c667597ea34a"
      },
      "execution_count": null,
      "outputs": [
        {
          "output_type": "stream",
          "name": "stdout",
          "text": [
            "Cor Pearson\n",
            "(0.4148376986201561, 2.2418236681384912e-38)\n"
          ]
        }
      ]
    },
    {
      "cell_type": "code",
      "source": [
        "print(\"Most popular women name\")\n",
        "\n",
        "f_name = data['Name'][data.Sex == 'female']\n",
        "for i in range(n_female):\n",
        "    f_name.iloc[i] = f_name.iloc[i][f_name.iloc[i].find(\".\") + 2 : ]\n",
        "    while(f_name.iloc[i].find(\"\\\"\") != -1):\n",
        "        f_name.iloc[i] = f_name.iloc[i][ : f_name.iloc[i].find(\"\\\"\") - 1] + f_name.iloc[i][f_name.iloc[i].rfind(\"\\\"\") + 1 : ]\n",
        "    if(f_name.iloc[i].find(\"(\") != -1):\n",
        "         f_name.iloc[i]= f_name.iloc[i][ : f_name.iloc[i].find(\"(\") ] + f_name.iloc[i][f_name.iloc[i].find(\"(\") + 1 : ]\n",
        "    if(f_name.iloc[i].find(\")\") != -1):\n",
        "         f_name.iloc[i]= f_name.iloc[i][ : f_name.iloc[i].find(\")\")]\n",
        "\n",
        "print(f_name)"
      ],
      "metadata": {
        "id": "nBSsrjUXb0PA",
        "colab": {
          "base_uri": "https://localhost:8080/"
        },
        "outputId": "37b21fac-3c17-47b4-ba07-96a5481f585b"
      },
      "execution_count": null,
      "outputs": [
        {
          "output_type": "stream",
          "name": "stdout",
          "text": [
            "Most popular women name\n",
            "1      John Bradley Florence Briggs Thayer\n",
            "2                                    Laina\n",
            "3              Jacques Heath Lily May Peel\n",
            "8        Oscar W Elisabeth Vilhelmina Berg\n",
            "9                     Nicholas Adele Achem\n",
            "                      ...                 \n",
            "880           William Imanita Parrish Hall\n",
            "882                           Gerda Ulrika\n",
            "885                William Margaret Norton\n",
            "887                         Margaret Edith\n",
            "888                        Catherine Helen\n",
            "Name: Name, Length: 314, dtype: object\n"
          ]
        }
      ]
    },
    {
      "cell_type": "code",
      "source": [
        "list_name = pd.DataFrame({'Name':['<blanck>']})\n",
        "j = 0\n",
        "for i in range(n_female):\n",
        "    if(f_name.iloc[i].find(\" \") == -1):\n",
        "        list_name.loc[j] = f_name.iloc[i]\n",
        "        j = j + 1\n",
        "    else:\n",
        "        while(f_name.iloc[i].find(\" \") != -1):\n",
        "            if(len(f_name.iloc[i][ : f_name.iloc[i].find(\" \")]) > 2):\n",
        "                list_name.loc[j] = f_name.iloc[i][ : f_name.iloc[i].find(\" \")]\n",
        "                j = j + 1\n",
        "            f_name.iloc[i] = f_name.iloc[i][f_name.iloc[i].find(\" \") + 1 : ]\n",
        "\n",
        "print(list_name)"
      ],
      "metadata": {
        "id": "lK8xxaHwb-cB",
        "colab": {
          "base_uri": "https://localhost:8080/"
        },
        "outputId": "b69524d1-aefb-42b8-9c34-d355c01881d1"
      },
      "execution_count": null,
      "outputs": [
        {
          "output_type": "stream",
          "name": "stdout",
          "text": [
            "          Name\n",
            "0         John\n",
            "1      Bradley\n",
            "2     Florence\n",
            "3       Briggs\n",
            "4        Laina\n",
            "..         ...\n",
            "538      Gerda\n",
            "539    William\n",
            "540   Margaret\n",
            "541   Margaret\n",
            "542  Catherine\n",
            "\n",
            "[543 rows x 1 columns]\n"
          ]
        }
      ]
    },
    {
      "cell_type": "code",
      "execution_count": null,
      "metadata": {
        "id": "X2-Bv0V3arhl",
        "colab": {
          "base_uri": "https://localhost:8080/"
        },
        "outputId": "b27abf9d-05f2-4462-ca1a-02f5e500b875"
      },
      "outputs": [
        {
          "output_type": "stream",
          "name": "stdout",
          "text": [
            "Anna 15\n"
          ]
        }
      ],
      "source": [
        "group_list_name = list_name.groupby('Name')['Name'].count()\n",
        "max_count = group_list_name.iloc[0]\n",
        "pop_name = group_list_name.index[0]\n",
        "\n",
        "for i in range(1, group_list_name.shape[0]):\n",
        "    if(group_list_name.iloc[i] > max_count):\n",
        "        max_count = group_list_name.iloc[i]\n",
        "        pop_name = group_list_name.index[i]\n",
        "\n",
        "print(pop_name, max_count)"
      ]
    }
  ]
}
